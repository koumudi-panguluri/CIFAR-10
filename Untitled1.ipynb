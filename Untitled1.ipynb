{
  "nbformat": 4,
  "nbformat_minor": 0,
  "metadata": {
    "colab": {
      "name": "Untitled1.ipynb",
      "provenance": [],
      "include_colab_link": true
    },
    "kernelspec": {
      "name": "python3",
      "display_name": "Python 3"
    },
    "accelerator": "GPU"
  },
  "cells": [
    {
      "cell_type": "markdown",
      "metadata": {
        "id": "view-in-github",
        "colab_type": "text"
      },
      "source": [
        "<a href=\"https://colab.research.google.com/github/koumudi-panguluri/CIFAR-10/blob/master/Untitled1.ipynb\" target=\"_parent\"><img src=\"https://colab.research.google.com/assets/colab-badge.svg\" alt=\"Open In Colab\"/></a>"
      ]
    },
    {
      "cell_type": "code",
      "metadata": {
        "id": "Gi9GQPm-7Ox6",
        "colab_type": "code",
        "colab": {
          "base_uri": "https://localhost:8080/",
          "height": 34
        },
        "outputId": "ada42521-eb31-4da9-908c-6d7624d1f5e9"
      },
      "source": [
        "import cv2\n",
        "from keras.datasets import cifar10"
      ],
      "execution_count": 2,
      "outputs": [
        {
          "output_type": "stream",
          "text": [
            "Using TensorFlow backend.\n"
          ],
          "name": "stderr"
        }
      ]
    },
    {
      "cell_type": "code",
      "metadata": {
        "id": "kWXdXCS17W52",
        "colab_type": "code",
        "colab": {
          "base_uri": "https://localhost:8080/",
          "height": 51
        },
        "outputId": "3b7ce5b6-b50c-4bd6-e4ea-82f83c3d9637"
      },
      "source": [
        "(x_train, y_train),(x_test, y_test)=cifar10.load_data()"
      ],
      "execution_count": 3,
      "outputs": [
        {
          "output_type": "stream",
          "text": [
            "Downloading data from https://www.cs.toronto.edu/~kriz/cifar-10-python.tar.gz\n",
            "170500096/170498071 [==============================] - 6s 0us/step\n"
          ],
          "name": "stdout"
        }
      ]
    },
    {
      "cell_type": "code",
      "metadata": {
        "id": "V3A3bUoq7je1",
        "colab_type": "code",
        "colab": {
          "base_uri": "https://localhost:8080/",
          "height": 85
        },
        "outputId": "dec3a0ae-c338-41eb-d0a9-fcbc2c803307"
      },
      "source": [
        "print(x_train.shape)\n",
        "print(y_train.shape)\n",
        "print(x_test.shape)\n",
        "print(y_test.shape)"
      ],
      "execution_count": 4,
      "outputs": [
        {
          "output_type": "stream",
          "text": [
            "(50000, 32, 32, 3)\n",
            "(50000, 1)\n",
            "(10000, 32, 32, 3)\n",
            "(10000, 1)\n"
          ],
          "name": "stdout"
        }
      ]
    },
    {
      "cell_type": "code",
      "metadata": {
        "id": "hwc7ZgBr7wRT",
        "colab_type": "code",
        "colab": {}
      },
      "source": [
        "import keras\n",
        "img_rows=x_train[0].shape[0]\n",
        "img_cols=x_train[1].shape[0]\n",
        "input_shape=(img_rows,img_cols,3)\n",
        "num_classes=10\n",
        "x_train=x_train.astype('float32')\n",
        "x_test=x_test.astype('float32')\n",
        "x_train/=255\n",
        "x_test/=255\n",
        "y_train=keras.utils.to_categorical(y_train)\n",
        "y_test=keras.utils.to_categorical(y_test)"
      ],
      "execution_count": 0,
      "outputs": []
    },
    {
      "cell_type": "code",
      "metadata": {
        "id": "ZkOQ7aqo9CwJ",
        "colab_type": "code",
        "colab": {}
      },
      "source": [
        "from keras.preprocessing import image\n",
        "from keras.layers import Conv2D, MaxPooling2D\n",
        "from keras.layers import Dense, Flatten, Dropout\n",
        "from keras import backend as K\n",
        "from keras.optimizers import SGD\n",
        "from keras.optimizers import Adam\n",
        "from keras.models import load_model\n",
        "from keras.models import Sequential"
      ],
      "execution_count": 0,
      "outputs": []
    },
    {
      "cell_type": "code",
      "metadata": {
        "id": "oPziEfAl9lrM",
        "colab_type": "code",
        "colab": {}
      },
      "source": [
        "model=Sequential()\n",
        "model.add(Conv2D(32, kernel_size=(3,3), activation='relu', input_shape=input_shape))\n",
        "model.add(Conv2D(32, (3,3), activation='relu'))\n",
        "model.add(MaxPooling2D(pool_size=(2,2)))\n",
        "model.add(Dropout(0.25))\n",
        "model.add(Conv2D(64, (3,3), activation='relu'))\n",
        "model.add(Conv2D(64, (3,3), activation='relu'))\n",
        "model.add(MaxPooling2D(pool_size=(2,2)))\n",
        "model.add(Dropout(0.25))\n",
        "model.add(Flatten())\n",
        "model.add(Dense(512,activation='relu'))\n",
        "model.add(Dropout(0.5))\n",
        "model.add(Dense(10,activation='softmax'))"
      ],
      "execution_count": 0,
      "outputs": []
    },
    {
      "cell_type": "code",
      "metadata": {
        "id": "iO4cPSj29sCM",
        "colab_type": "code",
        "colab": {}
      },
      "source": [
        "model.compile(loss='categorical_crossentropy',optimizer=keras.optimizers.rmsprop(lr=0.0001, decay=1e-6),metrics=['accuracy'])"
      ],
      "execution_count": 0,
      "outputs": []
    },
    {
      "cell_type": "code",
      "metadata": {
        "id": "xljWs6ds-s7V",
        "colab_type": "code",
        "colab": {
          "base_uri": "https://localhost:8080/",
          "height": 901
        },
        "outputId": "b177d5d2-ddf7-4ecb-cf31-1757221bcf1b"
      },
      "source": [
        "model.fit(x_train, y_train, batch_size=32, epochs=25, validation_data=(x_test,y_test))"
      ],
      "execution_count": 18,
      "outputs": [
        {
          "output_type": "stream",
          "text": [
            "Train on 50000 samples, validate on 10000 samples\n",
            "Epoch 1/25\n",
            "50000/50000 [==============================] - 22s 444us/step - loss: 1.8638 - acc: 0.3125 - val_loss: 1.6436 - val_acc: 0.4086\n",
            "Epoch 2/25\n",
            "50000/50000 [==============================] - 22s 431us/step - loss: 1.5146 - acc: 0.4477 - val_loss: 1.4003 - val_acc: 0.4834\n",
            "Epoch 3/25\n",
            "50000/50000 [==============================] - 21s 413us/step - loss: 1.3833 - acc: 0.5004 - val_loss: 1.2623 - val_acc: 0.5463\n",
            "Epoch 4/25\n",
            "50000/50000 [==============================] - 21s 412us/step - loss: 1.2966 - acc: 0.5362 - val_loss: 1.2229 - val_acc: 0.5541\n",
            "Epoch 5/25\n",
            "50000/50000 [==============================] - 20s 407us/step - loss: 1.2185 - acc: 0.5687 - val_loss: 1.1282 - val_acc: 0.6015\n",
            "Epoch 6/25\n",
            "50000/50000 [==============================] - 21s 411us/step - loss: 1.1571 - acc: 0.5921 - val_loss: 1.0707 - val_acc: 0.6178\n",
            "Epoch 7/25\n",
            "50000/50000 [==============================] - 21s 411us/step - loss: 1.1085 - acc: 0.6117 - val_loss: 1.1075 - val_acc: 0.6027\n",
            "Epoch 8/25\n",
            "50000/50000 [==============================] - 20s 407us/step - loss: 1.0638 - acc: 0.6252 - val_loss: 1.0261 - val_acc: 0.6331\n",
            "Epoch 9/25\n",
            "50000/50000 [==============================] - 20s 409us/step - loss: 1.0258 - acc: 0.6399 - val_loss: 0.9809 - val_acc: 0.6537\n",
            "Epoch 10/25\n",
            "50000/50000 [==============================] - 20s 405us/step - loss: 0.9878 - acc: 0.6567 - val_loss: 0.9584 - val_acc: 0.6693\n",
            "Epoch 11/25\n",
            "50000/50000 [==============================] - 21s 413us/step - loss: 0.9556 - acc: 0.6666 - val_loss: 0.9050 - val_acc: 0.6821\n",
            "Epoch 12/25\n",
            "50000/50000 [==============================] - 21s 411us/step - loss: 0.9285 - acc: 0.6754 - val_loss: 0.8617 - val_acc: 0.6973\n",
            "Epoch 13/25\n",
            "50000/50000 [==============================] - 21s 414us/step - loss: 0.9022 - acc: 0.6865 - val_loss: 0.8985 - val_acc: 0.6859\n",
            "Epoch 14/25\n",
            "50000/50000 [==============================] - 20s 407us/step - loss: 0.8762 - acc: 0.6941 - val_loss: 0.8100 - val_acc: 0.7177\n",
            "Epoch 15/25\n",
            "50000/50000 [==============================] - 20s 409us/step - loss: 0.8598 - acc: 0.7014 - val_loss: 0.8242 - val_acc: 0.7161\n",
            "Epoch 16/25\n",
            "50000/50000 [==============================] - 21s 411us/step - loss: 0.8393 - acc: 0.7061 - val_loss: 0.7987 - val_acc: 0.7191\n",
            "Epoch 17/25\n",
            "50000/50000 [==============================] - 21s 413us/step - loss: 0.8188 - acc: 0.7154 - val_loss: 0.7831 - val_acc: 0.7299\n",
            "Epoch 18/25\n",
            "50000/50000 [==============================] - 21s 418us/step - loss: 0.8067 - acc: 0.7212 - val_loss: 0.7574 - val_acc: 0.7395\n",
            "Epoch 19/25\n",
            "50000/50000 [==============================] - 20s 404us/step - loss: 0.7949 - acc: 0.7240 - val_loss: 0.7790 - val_acc: 0.7319\n",
            "Epoch 20/25\n",
            "50000/50000 [==============================] - 21s 412us/step - loss: 0.7813 - acc: 0.7304 - val_loss: 0.7457 - val_acc: 0.7418\n",
            "Epoch 21/25\n",
            "50000/50000 [==============================] - 20s 404us/step - loss: 0.7711 - acc: 0.7336 - val_loss: 0.7768 - val_acc: 0.7317\n",
            "Epoch 22/25\n",
            "50000/50000 [==============================] - 20s 404us/step - loss: 0.7622 - acc: 0.7366 - val_loss: 0.7513 - val_acc: 0.7449\n",
            "Epoch 23/25\n",
            "50000/50000 [==============================] - 20s 405us/step - loss: 0.7543 - acc: 0.7378 - val_loss: 0.7199 - val_acc: 0.7486\n",
            "Epoch 24/25\n",
            "50000/50000 [==============================] - 20s 401us/step - loss: 0.7415 - acc: 0.7435 - val_loss: 0.7491 - val_acc: 0.7473\n",
            "Epoch 25/25\n",
            "50000/50000 [==============================] - 20s 403us/step - loss: 0.7394 - acc: 0.7451 - val_loss: 0.7846 - val_acc: 0.7325\n"
          ],
          "name": "stdout"
        },
        {
          "output_type": "execute_result",
          "data": {
            "text/plain": [
              "<keras.callbacks.History at 0x7f515776ec88>"
            ]
          },
          "metadata": {
            "tags": []
          },
          "execution_count": 18
        }
      ]
    },
    {
      "cell_type": "code",
      "metadata": {
        "id": "Ili9e1s4-8Sk",
        "colab_type": "code",
        "colab": {
          "base_uri": "https://localhost:8080/",
          "height": 68
        },
        "outputId": "7d455207-6565-49f8-acf6-c301305608eb"
      },
      "source": [
        "score=model.evaluate(x_test,y_test,verbose=1)\n",
        "print(score[0])\n",
        "print(\"Accuracy : \",score[1])"
      ],
      "execution_count": 32,
      "outputs": [
        {
          "output_type": "stream",
          "text": [
            "10000/10000 [==============================] - 1s 138us/step\n",
            "0.7845666527748107\n",
            "Accuracy :  0.7325\n"
          ],
          "name": "stdout"
        }
      ]
    },
    {
      "cell_type": "code",
      "metadata": {
        "id": "WuXfy1TTDQPC",
        "colab_type": "code",
        "colab": {}
      },
      "source": [
        ""
      ],
      "execution_count": 0,
      "outputs": []
    },
    {
      "cell_type": "code",
      "metadata": {
        "id": "zeMjRaRWFoox",
        "colab_type": "code",
        "colab": {}
      },
      "source": [
        ""
      ],
      "execution_count": 0,
      "outputs": []
    },
    {
      "cell_type": "code",
      "metadata": {
        "id": "nl7lY45oHd_T",
        "colab_type": "code",
        "colab": {}
      },
      "source": [
        ""
      ],
      "execution_count": 0,
      "outputs": []
    }
  ]
}